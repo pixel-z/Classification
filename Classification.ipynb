{
  "nbformat": 4,
  "nbformat_minor": 0,
  "metadata": {
    "colab": {
      "name": "Classification.ipynb",
      "provenance": []
    },
    "kernelspec": {
      "display_name": "Python 3",
      "name": "python3"
    },
    "language_info": {
      "name": "python"
    }
  },
  "cells": [
    {
      "cell_type": "code",
      "metadata": {
        "id": "z3JjIAPMttua"
      },
      "source": [
        "import numpy as np\n",
        "import pandas as pd"
      ],
      "execution_count": 624,
      "outputs": []
    },
    {
      "cell_type": "code",
      "metadata": {
        "colab": {
          "base_uri": "https://localhost:8080/"
        },
        "id": "2J-tm9izvTyE",
        "outputId": "26d51d80-82d6-4603-ff20-5dfd475e3220"
      },
      "source": [
        "from google.colab import drive\n",
        "drive.mount('/content/drive')\n",
        "data=pd.read_csv(\"/content/drive/MyDrive/Data-Analytics/A1/Indian Earthquakes List Update_Magnitudes (1).csv\")"
      ],
      "execution_count": 625,
      "outputs": [
        {
          "output_type": "stream",
          "name": "stdout",
          "text": [
            "Drive already mounted at /content/drive; to attempt to forcibly remount, call drive.mount(\"/content/drive\", force_remount=True).\n"
          ]
        },
        {
          "output_type": "stream",
          "name": "stderr",
          "text": [
            "/usr/local/lib/python3.7/dist-packages/IPython/core/interactiveshell.py:2718: DtypeWarning: Columns (2,5,7,9,10,11,12,13,15) have mixed types.Specify dtype option on import or set low_memory=False.\n",
            "  interactivity=interactivity, compiler=compiler, result=result)\n"
          ]
        }
      ]
    },
    {
      "cell_type": "code",
      "metadata": {
        "colab": {
          "base_uri": "https://localhost:8080/",
          "height": 617
        },
        "id": "rKEV-ml_x7Jm",
        "outputId": "63ab4132-31b8-4f46-90fe-4a53e4ca37c5"
      },
      "source": [
        "data"
      ],
      "execution_count": 626,
      "outputs": [
        {
          "output_type": "execute_result",
          "data": {
            "text/html": [
              "<div>\n",
              "<style scoped>\n",
              "    .dataframe tbody tr th:only-of-type {\n",
              "        vertical-align: middle;\n",
              "    }\n",
              "\n",
              "    .dataframe tbody tr th {\n",
              "        vertical-align: top;\n",
              "    }\n",
              "\n",
              "    .dataframe thead th {\n",
              "        text-align: right;\n",
              "    }\n",
              "</style>\n",
              "<table border=\"1\" class=\"dataframe\">\n",
              "  <thead>\n",
              "    <tr style=\"text-align: right;\">\n",
              "      <th></th>\n",
              "      <th>Sl. No.</th>\n",
              "      <th>YEAR</th>\n",
              "      <th>MONTH</th>\n",
              "      <th>DATE</th>\n",
              "      <th>ORIGIN TIME (UTC)</th>\n",
              "      <th>(IST)</th>\n",
              "      <th>MAGNITUDE (Mw)</th>\n",
              "      <th>Mw</th>\n",
              "      <th>Mb</th>\n",
              "      <th>Mb.1</th>\n",
              "      <th>Ms</th>\n",
              "      <th>ML</th>\n",
              "      <th>LAT (N)</th>\n",
              "      <th>LONG (E)</th>\n",
              "      <th>DEPTH (km)</th>\n",
              "      <th>INTENSITY (MM)</th>\n",
              "      <th>MMI</th>\n",
              "      <th>MME</th>\n",
              "      <th>LOCATION</th>\n",
              "      <th>REFERENCE</th>\n",
              "    </tr>\n",
              "  </thead>\n",
              "  <tbody>\n",
              "    <tr>\n",
              "      <th>0</th>\n",
              "      <td>1</td>\n",
              "      <td>-2474</td>\n",
              "      <td>0</td>\n",
              "      <td>0.0</td>\n",
              "      <td>NaN</td>\n",
              "      <td>NaN</td>\n",
              "      <td>7.5000</td>\n",
              "      <td>7.5</td>\n",
              "      <td>NaN</td>\n",
              "      <td>6.969202899</td>\n",
              "      <td>7.260619977</td>\n",
              "      <td>7.427072403</td>\n",
              "      <td>71</td>\n",
              "      <td>24</td>\n",
              "      <td>0.0</td>\n",
              "      <td>NaN</td>\n",
              "      <td>NaN</td>\n",
              "      <td>NaN</td>\n",
              "      <td>NaN</td>\n",
              "      <td>Dr STGR</td>\n",
              "    </tr>\n",
              "    <tr>\n",
              "      <th>1</th>\n",
              "      <td>2</td>\n",
              "      <td>-325</td>\n",
              "      <td>0</td>\n",
              "      <td>0.0</td>\n",
              "      <td>NaN</td>\n",
              "      <td>NaN</td>\n",
              "      <td>7.5000</td>\n",
              "      <td>7.5</td>\n",
              "      <td>NaN</td>\n",
              "      <td>6.969202899</td>\n",
              "      <td>7.260619977</td>\n",
              "      <td>7.427072403</td>\n",
              "      <td>71</td>\n",
              "      <td>24</td>\n",
              "      <td>0.0</td>\n",
              "      <td>NaN</td>\n",
              "      <td>NaN</td>\n",
              "      <td>NaN</td>\n",
              "      <td>NaN</td>\n",
              "      <td>Dr STGR</td>\n",
              "    </tr>\n",
              "    <tr>\n",
              "      <th>2</th>\n",
              "      <td>3</td>\n",
              "      <td>25</td>\n",
              "      <td>0</td>\n",
              "      <td>0.0</td>\n",
              "      <td>NaN</td>\n",
              "      <td>NaN</td>\n",
              "      <td>7.5000</td>\n",
              "      <td>7.5</td>\n",
              "      <td>NaN</td>\n",
              "      <td>6.969202899</td>\n",
              "      <td>7.260619977</td>\n",
              "      <td>7.427072403</td>\n",
              "      <td>72.9</td>\n",
              "      <td>33.72</td>\n",
              "      <td>0.0</td>\n",
              "      <td>NaN</td>\n",
              "      <td>NaN</td>\n",
              "      <td>NaN</td>\n",
              "      <td>NaN</td>\n",
              "      <td>Dr STGR</td>\n",
              "    </tr>\n",
              "    <tr>\n",
              "      <th>3</th>\n",
              "      <td>4</td>\n",
              "      <td>26</td>\n",
              "      <td>5</td>\n",
              "      <td>10.0</td>\n",
              "      <td>08.19.10.0</td>\n",
              "      <td>NaN</td>\n",
              "      <td>6.1397</td>\n",
              "      <td>6.1397</td>\n",
              "      <td>5.737047101</td>\n",
              "      <td>5.737047101</td>\n",
              "      <td>5.698851894</td>\n",
              "      <td>5.999685205</td>\n",
              "      <td>17.3</td>\n",
              "      <td>80.1</td>\n",
              "      <td>NaN</td>\n",
              "      <td>NaN</td>\n",
              "      <td>NaN</td>\n",
              "      <td>NaN</td>\n",
              "      <td>NaN</td>\n",
              "      <td>NEIC</td>\n",
              "    </tr>\n",
              "    <tr>\n",
              "      <th>4</th>\n",
              "      <td>5</td>\n",
              "      <td>26</td>\n",
              "      <td>5</td>\n",
              "      <td>10.0</td>\n",
              "      <td>08.19.10.0</td>\n",
              "      <td>NaN</td>\n",
              "      <td>6.1397</td>\n",
              "      <td>6.1397</td>\n",
              "      <td>5.737047101</td>\n",
              "      <td>5.737047101</td>\n",
              "      <td>6.075520196</td>\n",
              "      <td>5.999685205</td>\n",
              "      <td>26</td>\n",
              "      <td>97</td>\n",
              "      <td>80.0</td>\n",
              "      <td>NaN</td>\n",
              "      <td>NaN</td>\n",
              "      <td>NaN</td>\n",
              "      <td>Myanmar</td>\n",
              "      <td>G-R</td>\n",
              "    </tr>\n",
              "    <tr>\n",
              "      <th>...</th>\n",
              "      <td>...</td>\n",
              "      <td>...</td>\n",
              "      <td>...</td>\n",
              "      <td>...</td>\n",
              "      <td>...</td>\n",
              "      <td>...</td>\n",
              "      <td>...</td>\n",
              "      <td>...</td>\n",
              "      <td>...</td>\n",
              "      <td>...</td>\n",
              "      <td>...</td>\n",
              "      <td>...</td>\n",
              "      <td>...</td>\n",
              "      <td>...</td>\n",
              "      <td>...</td>\n",
              "      <td>...</td>\n",
              "      <td>...</td>\n",
              "      <td>...</td>\n",
              "      <td>...</td>\n",
              "      <td>...</td>\n",
              "    </tr>\n",
              "    <tr>\n",
              "      <th>52984</th>\n",
              "      <td>52970</td>\n",
              "      <td>2019</td>\n",
              "      <td>7</td>\n",
              "      <td>28.0</td>\n",
              "      <td>19:24:08</td>\n",
              "      <td>00:54:08/2019-07-29/</td>\n",
              "      <td>3.2000</td>\n",
              "      <td>3.2</td>\n",
              "      <td>NaN</td>\n",
              "      <td>3.07428</td>\n",
              "      <td>2.32377</td>\n",
              "      <td>2.91501</td>\n",
              "      <td>32.8�N</td>\n",
              "      <td>78.4�E</td>\n",
              "      <td>10.0</td>\n",
              "      <td>NaN</td>\n",
              "      <td>NaN</td>\n",
              "      <td>NaN</td>\n",
              "      <td>Jammu &amp; Kashmir</td>\n",
              "      <td>NaN</td>\n",
              "    </tr>\n",
              "    <tr>\n",
              "      <th>52985</th>\n",
              "      <td>52971</td>\n",
              "      <td>2019</td>\n",
              "      <td>7</td>\n",
              "      <td>28.0</td>\n",
              "      <td>10:44:10</td>\n",
              "      <td>16:14:10</td>\n",
              "      <td>3.6000</td>\n",
              "      <td>3.6</td>\n",
              "      <td>NaN</td>\n",
              "      <td>3.43659</td>\n",
              "      <td>2.78301</td>\n",
              "      <td>3.33473</td>\n",
              "      <td>25.5�N</td>\n",
              "      <td>90.4�E</td>\n",
              "      <td>70.0</td>\n",
              "      <td>NaN</td>\n",
              "      <td>NaN</td>\n",
              "      <td>NaN</td>\n",
              "      <td>Distt. East Garo Hills ,Meghalaya</td>\n",
              "      <td>NaN</td>\n",
              "    </tr>\n",
              "    <tr>\n",
              "      <th>52986</th>\n",
              "      <td>52972</td>\n",
              "      <td>2019</td>\n",
              "      <td>7</td>\n",
              "      <td>28.0</td>\n",
              "      <td>21:25:06</td>\n",
              "      <td>7/29/2019 2:55</td>\n",
              "      <td>4.0000</td>\n",
              "      <td>4</td>\n",
              "      <td>NaN</td>\n",
              "      <td>3.79891</td>\n",
              "      <td>3.24225</td>\n",
              "      <td>3.75446</td>\n",
              "      <td>23.2�N</td>\n",
              "      <td>86.5�E</td>\n",
              "      <td>22.0</td>\n",
              "      <td>NaN</td>\n",
              "      <td>NaN</td>\n",
              "      <td>NaN</td>\n",
              "      <td>Distt. Puruliya, West Bengal</td>\n",
              "      <td>NaN</td>\n",
              "    </tr>\n",
              "    <tr>\n",
              "      <th>52987</th>\n",
              "      <td>52973</td>\n",
              "      <td>2019</td>\n",
              "      <td>7</td>\n",
              "      <td>29.0</td>\n",
              "      <td>3:33:53</td>\n",
              "      <td>9:03:53</td>\n",
              "      <td>4.3000</td>\n",
              "      <td>4.3</td>\n",
              "      <td>NaN</td>\n",
              "      <td>4.07065</td>\n",
              "      <td>3.58668</td>\n",
              "      <td>4.06925</td>\n",
              "      <td>32.8�N</td>\n",
              "      <td>76.4�E</td>\n",
              "      <td>20.0</td>\n",
              "      <td>NaN</td>\n",
              "      <td>NaN</td>\n",
              "      <td>NaN</td>\n",
              "      <td>Distt. Lahaul-Spiti,Himachal Pradesh</td>\n",
              "      <td>NaN</td>\n",
              "    </tr>\n",
              "    <tr>\n",
              "      <th>52988</th>\n",
              "      <td>52974</td>\n",
              "      <td>2019</td>\n",
              "      <td>7</td>\n",
              "      <td>31.0</td>\n",
              "      <td>14:50:02</td>\n",
              "      <td>20:20:02</td>\n",
              "      <td>3.0000</td>\n",
              "      <td>3</td>\n",
              "      <td>NaN</td>\n",
              "      <td>2.89312</td>\n",
              "      <td>2.09414</td>\n",
              "      <td>2.70514</td>\n",
              "      <td>20.0�N</td>\n",
              "      <td>72.8�E</td>\n",
              "      <td>10.0</td>\n",
              "      <td>NaN</td>\n",
              "      <td>NaN</td>\n",
              "      <td>NaN</td>\n",
              "      <td>Distt. Palghar, Maharashtra</td>\n",
              "      <td>NaN</td>\n",
              "    </tr>\n",
              "  </tbody>\n",
              "</table>\n",
              "<p>52989 rows × 20 columns</p>\n",
              "</div>"
            ],
            "text/plain": [
              "       Sl. No.  YEAR MONTH  ...  MME                              LOCATION REFERENCE\n",
              "0            1 -2474     0  ...  NaN                                   NaN   Dr STGR\n",
              "1            2  -325     0  ...  NaN                                   NaN   Dr STGR\n",
              "2            3    25     0  ...  NaN                                   NaN   Dr STGR\n",
              "3            4    26     5  ...  NaN                                   NaN      NEIC\n",
              "4            5    26     5  ...  NaN                               Myanmar       G-R\n",
              "...        ...   ...   ...  ...  ...                                   ...       ...\n",
              "52984    52970  2019     7  ...  NaN                       Jammu & Kashmir       NaN\n",
              "52985    52971  2019     7  ...  NaN     Distt. East Garo Hills ,Meghalaya       NaN\n",
              "52986    52972  2019     7  ...  NaN          Distt. Puruliya, West Bengal       NaN\n",
              "52987    52973  2019     7  ...  NaN  Distt. Lahaul-Spiti,Himachal Pradesh       NaN\n",
              "52988    52974  2019     7  ...  NaN           Distt. Palghar, Maharashtra       NaN\n",
              "\n",
              "[52989 rows x 20 columns]"
            ]
          },
          "metadata": {},
          "execution_count": 626
        }
      ]
    },
    {
      "cell_type": "markdown",
      "metadata": {
        "id": "seFRc9qbF7Rw"
      },
      "source": [
        "## Data Cleaning\n",
        "A lot of data cleaning is required. \n",
        "- Useless columns such Sl. No.,etc needs to be removed.\n",
        "- NaN values\n",
        "- Wrong values such as 0 value in date, month, etc.\n",
        "- Latitudes and Longitudes also in the end contain some symbols in the string.\n",
        "- Inconsistent data type in some columns\n",
        "- The metadata such as year, month have unnecessary space before the comma `,` the space was removed from csv. Due to this `data['YEAR']` can be used instead of `data['YEAR ']` (Notice the space)."
      ]
    },
    {
      "cell_type": "code",
      "metadata": {
        "colab": {
          "base_uri": "https://localhost:8080/"
        },
        "id": "v_IXIeJLFC5W",
        "outputId": "b84f6737-8ece-4214-f355-34ab30a9e1c6"
      },
      "source": [
        "# Null count in each column\n",
        "# data.isna().sum()\n",
        "data.isna().sum(axis = 0)"
      ],
      "execution_count": 627,
      "outputs": [
        {
          "output_type": "execute_result",
          "data": {
            "text/plain": [
              "Sl. No.                  0\n",
              "YEAR                     0\n",
              "MONTH                   18\n",
              "DATE                    57\n",
              "ORIGIN TIME (UTC)    31803\n",
              "(IST)                52563\n",
              "MAGNITUDE (Mw)       12054\n",
              "Mw                    2504\n",
              "Mb                   40706\n",
              "Mb.1                  2492\n",
              "Ms                     166\n",
              "ML                     166\n",
              "LAT (N)                  0\n",
              "LONG (E)                 0\n",
              "DEPTH (km)            2178\n",
              "INTENSITY (MM)       52948\n",
              "MMI                  52989\n",
              "MME                  52989\n",
              "LOCATION             43615\n",
              "REFERENCE             1582\n",
              "dtype: int64"
            ]
          },
          "metadata": {},
          "execution_count": 627
        }
      ]
    },
    {
      "cell_type": "code",
      "metadata": {
        "colab": {
          "base_uri": "https://localhost:8080/"
        },
        "id": "S7gjFvGfebhy",
        "outputId": "c5ceb319-0ffd-4e9e-84d3-fb3786f5a843"
      },
      "source": [
        "data.columns"
      ],
      "execution_count": 628,
      "outputs": [
        {
          "output_type": "execute_result",
          "data": {
            "text/plain": [
              "Index(['Sl. No.', 'YEAR', 'MONTH', 'DATE', 'ORIGIN TIME (UTC)', '(IST)',\n",
              "       'MAGNITUDE (Mw)', 'Mw', 'Mb', 'Mb.1', 'Ms', 'ML', 'LAT (N)', 'LONG (E)',\n",
              "       'DEPTH (km)', 'INTENSITY (MM)', 'MMI', 'MME', 'LOCATION', 'REFERENCE'],\n",
              "      dtype='object')"
            ]
          },
          "metadata": {},
          "execution_count": 628
        }
      ]
    },
    {
      "cell_type": "code",
      "metadata": {
        "colab": {
          "base_uri": "https://localhost:8080/",
          "height": 206
        },
        "id": "JbNfDnZ-2BJu",
        "outputId": "43512036-8f57-4263-c2bc-e701576892c5"
      },
      "source": [
        "# Removing columns which have most of the values null\n",
        "drop = ['Sl. No.', 'ORIGIN TIME (UTC)', '(IST)',\n",
        "       'MAGNITUDE (Mw)', 'Mb', 'Mb.1', 'Ms', 'ML',\n",
        "        'INTENSITY (MM)', 'MMI', 'MME', 'LOCATION', 'REFERENCE']\n",
        "new_data = data.drop(drop, axis=1)\n",
        "\n",
        "# data.head()\n",
        "new_data.tail()\n",
        "# 'Mw', 'YEAR', 'MONTH', 'DATE', 'LAT (N)', 'LONG (E)', 'DEPTH (km)' are features that we are considering"
      ],
      "execution_count": 629,
      "outputs": [
        {
          "output_type": "execute_result",
          "data": {
            "text/html": [
              "<div>\n",
              "<style scoped>\n",
              "    .dataframe tbody tr th:only-of-type {\n",
              "        vertical-align: middle;\n",
              "    }\n",
              "\n",
              "    .dataframe tbody tr th {\n",
              "        vertical-align: top;\n",
              "    }\n",
              "\n",
              "    .dataframe thead th {\n",
              "        text-align: right;\n",
              "    }\n",
              "</style>\n",
              "<table border=\"1\" class=\"dataframe\">\n",
              "  <thead>\n",
              "    <tr style=\"text-align: right;\">\n",
              "      <th></th>\n",
              "      <th>YEAR</th>\n",
              "      <th>MONTH</th>\n",
              "      <th>DATE</th>\n",
              "      <th>Mw</th>\n",
              "      <th>LAT (N)</th>\n",
              "      <th>LONG (E)</th>\n",
              "      <th>DEPTH (km)</th>\n",
              "    </tr>\n",
              "  </thead>\n",
              "  <tbody>\n",
              "    <tr>\n",
              "      <th>52984</th>\n",
              "      <td>2019</td>\n",
              "      <td>7</td>\n",
              "      <td>28.0</td>\n",
              "      <td>3.2</td>\n",
              "      <td>32.8�N</td>\n",
              "      <td>78.4�E</td>\n",
              "      <td>10.0</td>\n",
              "    </tr>\n",
              "    <tr>\n",
              "      <th>52985</th>\n",
              "      <td>2019</td>\n",
              "      <td>7</td>\n",
              "      <td>28.0</td>\n",
              "      <td>3.6</td>\n",
              "      <td>25.5�N</td>\n",
              "      <td>90.4�E</td>\n",
              "      <td>70.0</td>\n",
              "    </tr>\n",
              "    <tr>\n",
              "      <th>52986</th>\n",
              "      <td>2019</td>\n",
              "      <td>7</td>\n",
              "      <td>28.0</td>\n",
              "      <td>4</td>\n",
              "      <td>23.2�N</td>\n",
              "      <td>86.5�E</td>\n",
              "      <td>22.0</td>\n",
              "    </tr>\n",
              "    <tr>\n",
              "      <th>52987</th>\n",
              "      <td>2019</td>\n",
              "      <td>7</td>\n",
              "      <td>29.0</td>\n",
              "      <td>4.3</td>\n",
              "      <td>32.8�N</td>\n",
              "      <td>76.4�E</td>\n",
              "      <td>20.0</td>\n",
              "    </tr>\n",
              "    <tr>\n",
              "      <th>52988</th>\n",
              "      <td>2019</td>\n",
              "      <td>7</td>\n",
              "      <td>31.0</td>\n",
              "      <td>3</td>\n",
              "      <td>20.0�N</td>\n",
              "      <td>72.8�E</td>\n",
              "      <td>10.0</td>\n",
              "    </tr>\n",
              "  </tbody>\n",
              "</table>\n",
              "</div>"
            ],
            "text/plain": [
              "       YEAR MONTH  DATE   Mw LAT (N) LONG (E)  DEPTH (km)\n",
              "52984  2019     7  28.0  3.2  32.8�N   78.4�E        10.0\n",
              "52985  2019     7  28.0  3.6  25.5�N   90.4�E        70.0\n",
              "52986  2019     7  28.0    4  23.2�N   86.5�E        22.0\n",
              "52987  2019     7  29.0  4.3  32.8�N   76.4�E        20.0\n",
              "52988  2019     7  31.0    3  20.0�N   72.8�E        10.0"
            ]
          },
          "metadata": {},
          "execution_count": 629
        }
      ]
    },
    {
      "cell_type": "code",
      "metadata": {
        "colab": {
          "base_uri": "https://localhost:8080/"
        },
        "id": "92WO0-2u8ivH",
        "outputId": "a1f1417e-8967-4af6-b21b-3bb1b3fbb0e7"
      },
      "source": [
        "new_data.isna().sum(axis = 0)"
      ],
      "execution_count": 630,
      "outputs": [
        {
          "output_type": "execute_result",
          "data": {
            "text/plain": [
              "YEAR             0\n",
              "MONTH           18\n",
              "DATE            57\n",
              "Mw            2504\n",
              "LAT (N)          0\n",
              "LONG (E)         0\n",
              "DEPTH (km)    2178\n",
              "dtype: int64"
            ]
          },
          "metadata": {},
          "execution_count": 630
        }
      ]
    },
    {
      "cell_type": "markdown",
      "metadata": {
        "id": "vVWaNxrLTvsH"
      },
      "source": [
        "### Cleaning feature 1 by 1"
      ]
    },
    {
      "cell_type": "markdown",
      "metadata": {
        "id": "vtrCL77MwN_5"
      },
      "source": [
        "#### Year"
      ]
    },
    {
      "cell_type": "code",
      "metadata": {
        "colab": {
          "base_uri": "https://localhost:8080/",
          "height": 424
        },
        "id": "-Xeg-_B8Sbjh",
        "outputId": "635e2a81-2d7b-4186-89f1-b256be0c3498"
      },
      "source": [
        "# dropping rows with Year<1800 because they will no longer be relevant\n",
        "new_data = new_data[new_data['YEAR'] >= 1700]\n",
        "new_data"
      ],
      "execution_count": 631,
      "outputs": [
        {
          "output_type": "execute_result",
          "data": {
            "text/html": [
              "<div>\n",
              "<style scoped>\n",
              "    .dataframe tbody tr th:only-of-type {\n",
              "        vertical-align: middle;\n",
              "    }\n",
              "\n",
              "    .dataframe tbody tr th {\n",
              "        vertical-align: top;\n",
              "    }\n",
              "\n",
              "    .dataframe thead th {\n",
              "        text-align: right;\n",
              "    }\n",
              "</style>\n",
              "<table border=\"1\" class=\"dataframe\">\n",
              "  <thead>\n",
              "    <tr style=\"text-align: right;\">\n",
              "      <th></th>\n",
              "      <th>YEAR</th>\n",
              "      <th>MONTH</th>\n",
              "      <th>DATE</th>\n",
              "      <th>Mw</th>\n",
              "      <th>LAT (N)</th>\n",
              "      <th>LONG (E)</th>\n",
              "      <th>DEPTH (km)</th>\n",
              "    </tr>\n",
              "  </thead>\n",
              "  <tbody>\n",
              "    <tr>\n",
              "      <th>42</th>\n",
              "      <td>1702</td>\n",
              "      <td>NaN</td>\n",
              "      <td>NaN</td>\n",
              "      <td>NaN</td>\n",
              "      <td>19.1</td>\n",
              "      <td>73.2</td>\n",
              "      <td>NaN</td>\n",
              "    </tr>\n",
              "    <tr>\n",
              "      <th>43</th>\n",
              "      <td>1705</td>\n",
              "      <td>02</td>\n",
              "      <td>4.0</td>\n",
              "      <td>7.0</td>\n",
              "      <td>72.15</td>\n",
              "      <td>21.75</td>\n",
              "      <td>0.0</td>\n",
              "    </tr>\n",
              "    <tr>\n",
              "      <th>44</th>\n",
              "      <td>1720</td>\n",
              "      <td>7</td>\n",
              "      <td>15.0</td>\n",
              "      <td>NaN</td>\n",
              "      <td>19.1</td>\n",
              "      <td>73.3</td>\n",
              "      <td>NaN</td>\n",
              "    </tr>\n",
              "    <tr>\n",
              "      <th>45</th>\n",
              "      <td>1720</td>\n",
              "      <td>07</td>\n",
              "      <td>15.0</td>\n",
              "      <td>6.5</td>\n",
              "      <td>77.1</td>\n",
              "      <td>28.37</td>\n",
              "      <td>0.0</td>\n",
              "    </tr>\n",
              "    <tr>\n",
              "      <th>46</th>\n",
              "      <td>1735</td>\n",
              "      <td>00</td>\n",
              "      <td>0.0</td>\n",
              "      <td>7.5</td>\n",
              "      <td>75</td>\n",
              "      <td>34</td>\n",
              "      <td>0.0</td>\n",
              "    </tr>\n",
              "    <tr>\n",
              "      <th>...</th>\n",
              "      <td>...</td>\n",
              "      <td>...</td>\n",
              "      <td>...</td>\n",
              "      <td>...</td>\n",
              "      <td>...</td>\n",
              "      <td>...</td>\n",
              "      <td>...</td>\n",
              "    </tr>\n",
              "    <tr>\n",
              "      <th>52984</th>\n",
              "      <td>2019</td>\n",
              "      <td>7</td>\n",
              "      <td>28.0</td>\n",
              "      <td>3.2</td>\n",
              "      <td>32.8�N</td>\n",
              "      <td>78.4�E</td>\n",
              "      <td>10.0</td>\n",
              "    </tr>\n",
              "    <tr>\n",
              "      <th>52985</th>\n",
              "      <td>2019</td>\n",
              "      <td>7</td>\n",
              "      <td>28.0</td>\n",
              "      <td>3.6</td>\n",
              "      <td>25.5�N</td>\n",
              "      <td>90.4�E</td>\n",
              "      <td>70.0</td>\n",
              "    </tr>\n",
              "    <tr>\n",
              "      <th>52986</th>\n",
              "      <td>2019</td>\n",
              "      <td>7</td>\n",
              "      <td>28.0</td>\n",
              "      <td>4</td>\n",
              "      <td>23.2�N</td>\n",
              "      <td>86.5�E</td>\n",
              "      <td>22.0</td>\n",
              "    </tr>\n",
              "    <tr>\n",
              "      <th>52987</th>\n",
              "      <td>2019</td>\n",
              "      <td>7</td>\n",
              "      <td>29.0</td>\n",
              "      <td>4.3</td>\n",
              "      <td>32.8�N</td>\n",
              "      <td>76.4�E</td>\n",
              "      <td>20.0</td>\n",
              "    </tr>\n",
              "    <tr>\n",
              "      <th>52988</th>\n",
              "      <td>2019</td>\n",
              "      <td>7</td>\n",
              "      <td>31.0</td>\n",
              "      <td>3</td>\n",
              "      <td>20.0�N</td>\n",
              "      <td>72.8�E</td>\n",
              "      <td>10.0</td>\n",
              "    </tr>\n",
              "  </tbody>\n",
              "</table>\n",
              "<p>52947 rows × 7 columns</p>\n",
              "</div>"
            ],
            "text/plain": [
              "       YEAR MONTH  DATE   Mw LAT (N) LONG (E)  DEPTH (km)\n",
              "42     1702   NaN   NaN  NaN    19.1     73.2         NaN\n",
              "43     1705    02   4.0  7.0   72.15    21.75         0.0\n",
              "44     1720     7  15.0  NaN    19.1     73.3         NaN\n",
              "45     1720    07  15.0  6.5    77.1    28.37         0.0\n",
              "46     1735    00   0.0  7.5      75       34         0.0\n",
              "...     ...   ...   ...  ...     ...      ...         ...\n",
              "52984  2019     7  28.0  3.2  32.8�N   78.4�E        10.0\n",
              "52985  2019     7  28.0  3.6  25.5�N   90.4�E        70.0\n",
              "52986  2019     7  28.0    4  23.2�N   86.5�E        22.0\n",
              "52987  2019     7  29.0  4.3  32.8�N   76.4�E        20.0\n",
              "52988  2019     7  31.0    3  20.0�N   72.8�E        10.0\n",
              "\n",
              "[52947 rows x 7 columns]"
            ]
          },
          "metadata": {},
          "execution_count": 631
        }
      ]
    },
    {
      "cell_type": "markdown",
      "metadata": {
        "id": "76HMRFRrwSem"
      },
      "source": [
        "#### Month\n"
      ]
    },
    {
      "cell_type": "code",
      "metadata": {
        "colab": {
          "base_uri": "https://localhost:8080/"
        },
        "id": "tPy28RqkYLDX",
        "outputId": "0840d551-2c0f-4f09-b361-c3b4c456ae06"
      },
      "source": [
        "# converting to numeric\n",
        "new_data['MONTH'] = pd.to_numeric(new_data['MONTH'],errors='coerce').astype(pd.Int64Dtype())\n",
        "\n",
        "new_data['MONTH'].value_counts()"
      ],
      "execution_count": 632,
      "outputs": [
        {
          "output_type": "execute_result",
          "data": {
            "text/plain": [
              "1     6362\n",
              "12    5366\n",
              "3     4702\n",
              "10    4649\n",
              "4     4403\n",
              "7     4160\n",
              "2     4096\n",
              "8     4066\n",
              "5     3994\n",
              "11    3941\n",
              "6     3620\n",
              "9     3557\n",
              "0       15\n",
              "Name: MONTH, dtype: Int64"
            ]
          },
          "metadata": {},
          "execution_count": 632
        }
      ]
    },
    {
      "cell_type": "code",
      "metadata": {
        "id": "WENrykaWwZUv"
      },
      "source": [
        "# # Dropping month=0 rows\n",
        "# rows = new_data[ new_data['MONTH'] == 0 ].index\n",
        "# new_data.drop(rows, inplace = True)\n",
        "\n",
        "# new_data['MONTH'].value_counts()"
      ],
      "execution_count": 633,
      "outputs": []
    },
    {
      "cell_type": "code",
      "metadata": {
        "id": "TWAtYzV70jVG"
      },
      "source": [
        "# Convert 0 to NaN\n",
        "new_data['MONTH']=new_data['MONTH'].mask(new_data['MONTH']==0)\n",
        "\n",
        "# # Filling NaN values with mean\n",
        "# mean = np.floor(new_data['MONTH'].mean())\n",
        "# new_data['MONTH'].fillna(value=mean, inplace=True)\n",
        "\n",
        "# new_data.isna().sum(axis = 0)"
      ],
      "execution_count": 634,
      "outputs": []
    },
    {
      "cell_type": "markdown",
      "metadata": {
        "id": "fzWr26YC60Gw"
      },
      "source": [
        "#### Date"
      ]
    },
    {
      "cell_type": "code",
      "metadata": {
        "id": "zYYDi5je6-8u"
      },
      "source": [
        "# convert to numeric & date=0 to NaN & NaN to mean\n",
        "\n",
        "new_data['DATE'] = pd.to_numeric(new_data['DATE'],errors='coerce').astype(pd.Int64Dtype())\n",
        "new_data['DATE']=new_data['DATE'].mask(new_data['DATE']==0)\n",
        "\n",
        "# mean = np.floor(new_data['DATE'].mean())\n",
        "# new_data['DATE'].fillna(value=mean, inplace=True)\n",
        "\n",
        "# new_data.isna().sum(axis = 0)"
      ],
      "execution_count": 635,
      "outputs": []
    },
    {
      "cell_type": "markdown",
      "metadata": {
        "id": "z6c_ziR8-CYq"
      },
      "source": [
        "#### Mw"
      ]
    },
    {
      "cell_type": "code",
      "metadata": {
        "colab": {
          "base_uri": "https://localhost:8080/",
          "height": 206
        },
        "id": "oiGIDd1d-Eb1",
        "outputId": "e4862dd8-7be5-4f7f-ab3e-ed8a15490e31"
      },
      "source": [
        "import re\n",
        "# Mw is an object\n",
        "# Converting everything to float\n",
        "new_data = new_data.reset_index(drop=True)\n",
        "del_row=[]\n",
        "for i in range(len(new_data)):\n",
        "   row=new_data.iloc[i]\n",
        "   if bool(re.match('^[0123456789.]+$',str(row['Mw'])))==False:\n",
        "     if pd.isnull((row['Mw']))==False:\n",
        "        del_row.append(i)\n",
        "\n",
        "new_data=new_data.drop(del_row,axis=0)\n",
        "new_data = new_data.reset_index(drop=True)\n",
        "new_data['Mw']=new_data['Mw'].astype(float)\n",
        "new_data.head()"
      ],
      "execution_count": 636,
      "outputs": [
        {
          "output_type": "execute_result",
          "data": {
            "text/html": [
              "<div>\n",
              "<style scoped>\n",
              "    .dataframe tbody tr th:only-of-type {\n",
              "        vertical-align: middle;\n",
              "    }\n",
              "\n",
              "    .dataframe tbody tr th {\n",
              "        vertical-align: top;\n",
              "    }\n",
              "\n",
              "    .dataframe thead th {\n",
              "        text-align: right;\n",
              "    }\n",
              "</style>\n",
              "<table border=\"1\" class=\"dataframe\">\n",
              "  <thead>\n",
              "    <tr style=\"text-align: right;\">\n",
              "      <th></th>\n",
              "      <th>YEAR</th>\n",
              "      <th>MONTH</th>\n",
              "      <th>DATE</th>\n",
              "      <th>Mw</th>\n",
              "      <th>LAT (N)</th>\n",
              "      <th>LONG (E)</th>\n",
              "      <th>DEPTH (km)</th>\n",
              "    </tr>\n",
              "  </thead>\n",
              "  <tbody>\n",
              "    <tr>\n",
              "      <th>0</th>\n",
              "      <td>1702</td>\n",
              "      <td>&lt;NA&gt;</td>\n",
              "      <td>&lt;NA&gt;</td>\n",
              "      <td>NaN</td>\n",
              "      <td>19.1</td>\n",
              "      <td>73.2</td>\n",
              "      <td>NaN</td>\n",
              "    </tr>\n",
              "    <tr>\n",
              "      <th>1</th>\n",
              "      <td>1705</td>\n",
              "      <td>2</td>\n",
              "      <td>4</td>\n",
              "      <td>7.0</td>\n",
              "      <td>72.15</td>\n",
              "      <td>21.75</td>\n",
              "      <td>0.0</td>\n",
              "    </tr>\n",
              "    <tr>\n",
              "      <th>2</th>\n",
              "      <td>1720</td>\n",
              "      <td>7</td>\n",
              "      <td>15</td>\n",
              "      <td>NaN</td>\n",
              "      <td>19.1</td>\n",
              "      <td>73.3</td>\n",
              "      <td>NaN</td>\n",
              "    </tr>\n",
              "    <tr>\n",
              "      <th>3</th>\n",
              "      <td>1720</td>\n",
              "      <td>7</td>\n",
              "      <td>15</td>\n",
              "      <td>6.5</td>\n",
              "      <td>77.1</td>\n",
              "      <td>28.37</td>\n",
              "      <td>0.0</td>\n",
              "    </tr>\n",
              "    <tr>\n",
              "      <th>4</th>\n",
              "      <td>1735</td>\n",
              "      <td>&lt;NA&gt;</td>\n",
              "      <td>&lt;NA&gt;</td>\n",
              "      <td>7.5</td>\n",
              "      <td>75</td>\n",
              "      <td>34</td>\n",
              "      <td>0.0</td>\n",
              "    </tr>\n",
              "  </tbody>\n",
              "</table>\n",
              "</div>"
            ],
            "text/plain": [
              "   YEAR  MONTH  DATE   Mw LAT (N) LONG (E)  DEPTH (km)\n",
              "0  1702   <NA>  <NA>  NaN    19.1     73.2         NaN\n",
              "1  1705      2     4  7.0   72.15    21.75         0.0\n",
              "2  1720      7    15  NaN    19.1     73.3         NaN\n",
              "3  1720      7    15  6.5    77.1    28.37         0.0\n",
              "4  1735   <NA>  <NA>  7.5      75       34         0.0"
            ]
          },
          "metadata": {},
          "execution_count": 636
        }
      ]
    },
    {
      "cell_type": "code",
      "metadata": {
        "id": "B8F6-U-0JLx8"
      },
      "source": [
        "# # Filling NaN \n",
        "# mean = new_data['Mw'].mean()\n",
        "# new_data['Mw'].fillna(value=mean, inplace=True)\n",
        "\n",
        "# new_data.head()"
      ],
      "execution_count": 637,
      "outputs": []
    },
    {
      "cell_type": "markdown",
      "metadata": {
        "id": "LJ0E3IH6LGeY"
      },
      "source": [
        "#### LAT (N)"
      ]
    },
    {
      "cell_type": "code",
      "metadata": {
        "id": "MVxBFRjJLOpB"
      },
      "source": [
        "# dtype = object -> float\n",
        "# converting S to N & removing the chars, symbols\n",
        "lat=[]\n",
        "for i in range(len(new_data)):\n",
        "   row=new_data.iloc[i]\n",
        "   if bool(re.match('^[0123456789.]+$',str(row['LAT (N)'])))==False:\n",
        "      f=0\n",
        "      if 'S' in str(row['LAT (N)']):\n",
        "        f=1\n",
        "\n",
        "      inst=re.sub(r\"[�NSE?]\",'',str(row['LAT (N)']))\n",
        "      inst=re.sub(r\"[,]\",'.',inst)\n",
        "      if f:\n",
        "         lat.append(-1*float(str(inst)))\n",
        "      else:\n",
        "         lat.append(float(str(inst)))\n",
        "   else:\n",
        "      lat.append(float(str(row['LAT (N)'])))"
      ],
      "execution_count": 638,
      "outputs": []
    },
    {
      "cell_type": "code",
      "metadata": {
        "id": "C6PhLYYLSKOb",
        "colab": {
          "base_uri": "https://localhost:8080/"
        },
        "outputId": "0064c192-6684-4170-cf3c-b63777ffc13e"
      },
      "source": [
        "new_data['LAT (N)']=lat\n",
        "new_data['LAT (N)'].isna().sum()\n",
        "\n",
        "# mean = new_data['LAT (N)'].mean()\n",
        "# new_data['LAT (N)'].fillna(value=mean, inplace=True)"
      ],
      "execution_count": 639,
      "outputs": [
        {
          "output_type": "execute_result",
          "data": {
            "text/plain": [
              "0"
            ]
          },
          "metadata": {},
          "execution_count": 639
        }
      ]
    },
    {
      "cell_type": "markdown",
      "metadata": {
        "id": "EWbJYHQdTvoJ"
      },
      "source": [
        "#### Longitude"
      ]
    },
    {
      "cell_type": "code",
      "metadata": {
        "colab": {
          "base_uri": "https://localhost:8080/",
          "height": 424
        },
        "id": "wTSOQfyTTpOi",
        "outputId": "9b3b551d-5189-4d22-bf79-10b41676316f"
      },
      "source": [
        "long=[]\n",
        "for i in range(len(new_data)):\n",
        "   row=new_data.iloc[i]\n",
        "   if bool(re.match('^[0123456789.]+$',str(row['LONG (E)'])))==False:\n",
        "      f=0\n",
        "      if 'W' in str(row['LONG (E)']):\n",
        "        f=1;\n",
        "      inst=re.sub(r\"[�NSE?W]\",'',str(row['LONG (E)']))\n",
        "      inst=re.sub(r\"[,]\",'.',inst)\n",
        "      if f:\n",
        "         long.append(-1*float(str(inst)))\n",
        "      else:\n",
        "         long.append(float(str(inst)))\n",
        "   else:\n",
        "     long.append(float(str(row['LONG (E)'])))\n",
        "new_data['LONG (E)'] = long\n",
        "new_data"
      ],
      "execution_count": 640,
      "outputs": [
        {
          "output_type": "execute_result",
          "data": {
            "text/html": [
              "<div>\n",
              "<style scoped>\n",
              "    .dataframe tbody tr th:only-of-type {\n",
              "        vertical-align: middle;\n",
              "    }\n",
              "\n",
              "    .dataframe tbody tr th {\n",
              "        vertical-align: top;\n",
              "    }\n",
              "\n",
              "    .dataframe thead th {\n",
              "        text-align: right;\n",
              "    }\n",
              "</style>\n",
              "<table border=\"1\" class=\"dataframe\">\n",
              "  <thead>\n",
              "    <tr style=\"text-align: right;\">\n",
              "      <th></th>\n",
              "      <th>YEAR</th>\n",
              "      <th>MONTH</th>\n",
              "      <th>DATE</th>\n",
              "      <th>Mw</th>\n",
              "      <th>LAT (N)</th>\n",
              "      <th>LONG (E)</th>\n",
              "      <th>DEPTH (km)</th>\n",
              "    </tr>\n",
              "  </thead>\n",
              "  <tbody>\n",
              "    <tr>\n",
              "      <th>0</th>\n",
              "      <td>1702</td>\n",
              "      <td>&lt;NA&gt;</td>\n",
              "      <td>&lt;NA&gt;</td>\n",
              "      <td>NaN</td>\n",
              "      <td>19.10</td>\n",
              "      <td>73.20</td>\n",
              "      <td>NaN</td>\n",
              "    </tr>\n",
              "    <tr>\n",
              "      <th>1</th>\n",
              "      <td>1705</td>\n",
              "      <td>2</td>\n",
              "      <td>4</td>\n",
              "      <td>7.0</td>\n",
              "      <td>72.15</td>\n",
              "      <td>21.75</td>\n",
              "      <td>0.0</td>\n",
              "    </tr>\n",
              "    <tr>\n",
              "      <th>2</th>\n",
              "      <td>1720</td>\n",
              "      <td>7</td>\n",
              "      <td>15</td>\n",
              "      <td>NaN</td>\n",
              "      <td>19.10</td>\n",
              "      <td>73.30</td>\n",
              "      <td>NaN</td>\n",
              "    </tr>\n",
              "    <tr>\n",
              "      <th>3</th>\n",
              "      <td>1720</td>\n",
              "      <td>7</td>\n",
              "      <td>15</td>\n",
              "      <td>6.5</td>\n",
              "      <td>77.10</td>\n",
              "      <td>28.37</td>\n",
              "      <td>0.0</td>\n",
              "    </tr>\n",
              "    <tr>\n",
              "      <th>4</th>\n",
              "      <td>1735</td>\n",
              "      <td>&lt;NA&gt;</td>\n",
              "      <td>&lt;NA&gt;</td>\n",
              "      <td>7.5</td>\n",
              "      <td>75.00</td>\n",
              "      <td>34.00</td>\n",
              "      <td>0.0</td>\n",
              "    </tr>\n",
              "    <tr>\n",
              "      <th>...</th>\n",
              "      <td>...</td>\n",
              "      <td>...</td>\n",
              "      <td>...</td>\n",
              "      <td>...</td>\n",
              "      <td>...</td>\n",
              "      <td>...</td>\n",
              "      <td>...</td>\n",
              "    </tr>\n",
              "    <tr>\n",
              "      <th>52939</th>\n",
              "      <td>2019</td>\n",
              "      <td>7</td>\n",
              "      <td>28</td>\n",
              "      <td>3.2</td>\n",
              "      <td>32.80</td>\n",
              "      <td>78.40</td>\n",
              "      <td>10.0</td>\n",
              "    </tr>\n",
              "    <tr>\n",
              "      <th>52940</th>\n",
              "      <td>2019</td>\n",
              "      <td>7</td>\n",
              "      <td>28</td>\n",
              "      <td>3.6</td>\n",
              "      <td>25.50</td>\n",
              "      <td>90.40</td>\n",
              "      <td>70.0</td>\n",
              "    </tr>\n",
              "    <tr>\n",
              "      <th>52941</th>\n",
              "      <td>2019</td>\n",
              "      <td>7</td>\n",
              "      <td>28</td>\n",
              "      <td>4.0</td>\n",
              "      <td>23.20</td>\n",
              "      <td>86.50</td>\n",
              "      <td>22.0</td>\n",
              "    </tr>\n",
              "    <tr>\n",
              "      <th>52942</th>\n",
              "      <td>2019</td>\n",
              "      <td>7</td>\n",
              "      <td>29</td>\n",
              "      <td>4.3</td>\n",
              "      <td>32.80</td>\n",
              "      <td>76.40</td>\n",
              "      <td>20.0</td>\n",
              "    </tr>\n",
              "    <tr>\n",
              "      <th>52943</th>\n",
              "      <td>2019</td>\n",
              "      <td>7</td>\n",
              "      <td>31</td>\n",
              "      <td>3.0</td>\n",
              "      <td>20.00</td>\n",
              "      <td>72.80</td>\n",
              "      <td>10.0</td>\n",
              "    </tr>\n",
              "  </tbody>\n",
              "</table>\n",
              "<p>52944 rows × 7 columns</p>\n",
              "</div>"
            ],
            "text/plain": [
              "       YEAR  MONTH  DATE   Mw  LAT (N)  LONG (E)  DEPTH (km)\n",
              "0      1702   <NA>  <NA>  NaN    19.10     73.20         NaN\n",
              "1      1705      2     4  7.0    72.15     21.75         0.0\n",
              "2      1720      7    15  NaN    19.10     73.30         NaN\n",
              "3      1720      7    15  6.5    77.10     28.37         0.0\n",
              "4      1735   <NA>  <NA>  7.5    75.00     34.00         0.0\n",
              "...     ...    ...   ...  ...      ...       ...         ...\n",
              "52939  2019      7    28  3.2    32.80     78.40        10.0\n",
              "52940  2019      7    28  3.6    25.50     90.40        70.0\n",
              "52941  2019      7    28  4.0    23.20     86.50        22.0\n",
              "52942  2019      7    29  4.3    32.80     76.40        20.0\n",
              "52943  2019      7    31  3.0    20.00     72.80        10.0\n",
              "\n",
              "[52944 rows x 7 columns]"
            ]
          },
          "metadata": {},
          "execution_count": 640
        }
      ]
    },
    {
      "cell_type": "code",
      "metadata": {
        "id": "-iEgVs5bcv-G"
      },
      "source": [
        "# mean = new_data['LONG (E)'].mean()\n",
        "# new_data['LONG (E)'].fillna(value=mean, inplace=True)"
      ],
      "execution_count": 641,
      "outputs": []
    },
    {
      "cell_type": "markdown",
      "metadata": {
        "id": "GvJczCsubRi8"
      },
      "source": [
        "#### Depth"
      ]
    },
    {
      "cell_type": "code",
      "metadata": {
        "colab": {
          "base_uri": "https://localhost:8080/",
          "height": 424
        },
        "id": "7M-o9CzEbT2N",
        "outputId": "7a238a9d-fe54-42f4-f484-e2661fab1d78"
      },
      "source": [
        "# # Filling NaN\n",
        "# mean = new_data['DEPTH (km)'].mean()\n",
        "# new_data['DEPTH (km)'].fillna(value=mean,inplace=True)\n",
        "# new_data\n",
        "\n",
        "# Dropping rows with NaN value\n",
        "new_data = new_data.dropna(axis=0, how='all', subset=['DEPTH (km)'])\n",
        "# new_data['DEPTH (km)'].isna().sum()\n",
        "new_data"
      ],
      "execution_count": 642,
      "outputs": [
        {
          "output_type": "execute_result",
          "data": {
            "text/html": [
              "<div>\n",
              "<style scoped>\n",
              "    .dataframe tbody tr th:only-of-type {\n",
              "        vertical-align: middle;\n",
              "    }\n",
              "\n",
              "    .dataframe tbody tr th {\n",
              "        vertical-align: top;\n",
              "    }\n",
              "\n",
              "    .dataframe thead th {\n",
              "        text-align: right;\n",
              "    }\n",
              "</style>\n",
              "<table border=\"1\" class=\"dataframe\">\n",
              "  <thead>\n",
              "    <tr style=\"text-align: right;\">\n",
              "      <th></th>\n",
              "      <th>YEAR</th>\n",
              "      <th>MONTH</th>\n",
              "      <th>DATE</th>\n",
              "      <th>Mw</th>\n",
              "      <th>LAT (N)</th>\n",
              "      <th>LONG (E)</th>\n",
              "      <th>DEPTH (km)</th>\n",
              "    </tr>\n",
              "  </thead>\n",
              "  <tbody>\n",
              "    <tr>\n",
              "      <th>1</th>\n",
              "      <td>1705</td>\n",
              "      <td>2</td>\n",
              "      <td>4</td>\n",
              "      <td>7.0</td>\n",
              "      <td>72.15</td>\n",
              "      <td>21.75</td>\n",
              "      <td>0.0</td>\n",
              "    </tr>\n",
              "    <tr>\n",
              "      <th>3</th>\n",
              "      <td>1720</td>\n",
              "      <td>7</td>\n",
              "      <td>15</td>\n",
              "      <td>6.5</td>\n",
              "      <td>77.10</td>\n",
              "      <td>28.37</td>\n",
              "      <td>0.0</td>\n",
              "    </tr>\n",
              "    <tr>\n",
              "      <th>4</th>\n",
              "      <td>1735</td>\n",
              "      <td>&lt;NA&gt;</td>\n",
              "      <td>&lt;NA&gt;</td>\n",
              "      <td>7.5</td>\n",
              "      <td>75.00</td>\n",
              "      <td>34.00</td>\n",
              "      <td>0.0</td>\n",
              "    </tr>\n",
              "    <tr>\n",
              "      <th>5</th>\n",
              "      <td>1736</td>\n",
              "      <td>3</td>\n",
              "      <td>24</td>\n",
              "      <td>5.8</td>\n",
              "      <td>74.50</td>\n",
              "      <td>34.60</td>\n",
              "      <td>0.0</td>\n",
              "    </tr>\n",
              "    <tr>\n",
              "      <th>7</th>\n",
              "      <td>1737</td>\n",
              "      <td>10</td>\n",
              "      <td>11</td>\n",
              "      <td>7.2</td>\n",
              "      <td>88.40</td>\n",
              "      <td>22.60</td>\n",
              "      <td>0.0</td>\n",
              "    </tr>\n",
              "    <tr>\n",
              "      <th>...</th>\n",
              "      <td>...</td>\n",
              "      <td>...</td>\n",
              "      <td>...</td>\n",
              "      <td>...</td>\n",
              "      <td>...</td>\n",
              "      <td>...</td>\n",
              "      <td>...</td>\n",
              "    </tr>\n",
              "    <tr>\n",
              "      <th>52939</th>\n",
              "      <td>2019</td>\n",
              "      <td>7</td>\n",
              "      <td>28</td>\n",
              "      <td>3.2</td>\n",
              "      <td>32.80</td>\n",
              "      <td>78.40</td>\n",
              "      <td>10.0</td>\n",
              "    </tr>\n",
              "    <tr>\n",
              "      <th>52940</th>\n",
              "      <td>2019</td>\n",
              "      <td>7</td>\n",
              "      <td>28</td>\n",
              "      <td>3.6</td>\n",
              "      <td>25.50</td>\n",
              "      <td>90.40</td>\n",
              "      <td>70.0</td>\n",
              "    </tr>\n",
              "    <tr>\n",
              "      <th>52941</th>\n",
              "      <td>2019</td>\n",
              "      <td>7</td>\n",
              "      <td>28</td>\n",
              "      <td>4.0</td>\n",
              "      <td>23.20</td>\n",
              "      <td>86.50</td>\n",
              "      <td>22.0</td>\n",
              "    </tr>\n",
              "    <tr>\n",
              "      <th>52942</th>\n",
              "      <td>2019</td>\n",
              "      <td>7</td>\n",
              "      <td>29</td>\n",
              "      <td>4.3</td>\n",
              "      <td>32.80</td>\n",
              "      <td>76.40</td>\n",
              "      <td>20.0</td>\n",
              "    </tr>\n",
              "    <tr>\n",
              "      <th>52943</th>\n",
              "      <td>2019</td>\n",
              "      <td>7</td>\n",
              "      <td>31</td>\n",
              "      <td>3.0</td>\n",
              "      <td>20.00</td>\n",
              "      <td>72.80</td>\n",
              "      <td>10.0</td>\n",
              "    </tr>\n",
              "  </tbody>\n",
              "</table>\n",
              "<p>50775 rows × 7 columns</p>\n",
              "</div>"
            ],
            "text/plain": [
              "       YEAR  MONTH  DATE   Mw  LAT (N)  LONG (E)  DEPTH (km)\n",
              "1      1705      2     4  7.0    72.15     21.75         0.0\n",
              "3      1720      7    15  6.5    77.10     28.37         0.0\n",
              "4      1735   <NA>  <NA>  7.5    75.00     34.00         0.0\n",
              "5      1736      3    24  5.8    74.50     34.60         0.0\n",
              "7      1737     10    11  7.2    88.40     22.60         0.0\n",
              "...     ...    ...   ...  ...      ...       ...         ...\n",
              "52939  2019      7    28  3.2    32.80     78.40        10.0\n",
              "52940  2019      7    28  3.6    25.50     90.40        70.0\n",
              "52941  2019      7    28  4.0    23.20     86.50        22.0\n",
              "52942  2019      7    29  4.3    32.80     76.40        20.0\n",
              "52943  2019      7    31  3.0    20.00     72.80        10.0\n",
              "\n",
              "[50775 rows x 7 columns]"
            ]
          },
          "metadata": {},
          "execution_count": 642
        }
      ]
    },
    {
      "cell_type": "markdown",
      "metadata": {
        "id": "CaGtkM6XYjnc"
      },
      "source": [
        "### Handling NaN\n",
        "All the NaN replaced by mean"
      ]
    },
    {
      "cell_type": "code",
      "metadata": {
        "colab": {
          "base_uri": "https://localhost:8080/"
        },
        "id": "JI6SjDZkYqVb",
        "outputId": "1b241c8f-aee9-4430-ca50-4d19e8bac08b"
      },
      "source": [
        "new_data.dtypes"
      ],
      "execution_count": 643,
      "outputs": [
        {
          "output_type": "execute_result",
          "data": {
            "text/plain": [
              "YEAR            int64\n",
              "MONTH           Int64\n",
              "DATE            Int64\n",
              "Mw            float64\n",
              "LAT (N)       float64\n",
              "LONG (E)      float64\n",
              "DEPTH (km)    float64\n",
              "dtype: object"
            ]
          },
          "metadata": {},
          "execution_count": 643
        }
      ]
    },
    {
      "cell_type": "code",
      "metadata": {
        "colab": {
          "base_uri": "https://localhost:8080/",
          "height": 519
        },
        "id": "BzUcitaLY3SQ",
        "outputId": "2379048d-5cc1-4356-93bb-1bd1daaceba3"
      },
      "source": [
        "# Feature processing\n",
        "# We will use float type in year, month, date to fill NaN\n",
        "new_data['YEAR']=new_data['YEAR'].astype(float)\n",
        "new_data['MONTH']=new_data['MONTH'].astype(float)\n",
        "new_data['DATE']=new_data['DATE'].astype(float)\n",
        "\n",
        "new_data.head()"
      ],
      "execution_count": 644,
      "outputs": [
        {
          "output_type": "stream",
          "name": "stderr",
          "text": [
            "/usr/local/lib/python3.7/dist-packages/ipykernel_launcher.py:3: SettingWithCopyWarning: \n",
            "A value is trying to be set on a copy of a slice from a DataFrame.\n",
            "Try using .loc[row_indexer,col_indexer] = value instead\n",
            "\n",
            "See the caveats in the documentation: https://pandas.pydata.org/pandas-docs/stable/user_guide/indexing.html#returning-a-view-versus-a-copy\n",
            "  This is separate from the ipykernel package so we can avoid doing imports until\n",
            "/usr/local/lib/python3.7/dist-packages/ipykernel_launcher.py:4: SettingWithCopyWarning: \n",
            "A value is trying to be set on a copy of a slice from a DataFrame.\n",
            "Try using .loc[row_indexer,col_indexer] = value instead\n",
            "\n",
            "See the caveats in the documentation: https://pandas.pydata.org/pandas-docs/stable/user_guide/indexing.html#returning-a-view-versus-a-copy\n",
            "  after removing the cwd from sys.path.\n",
            "/usr/local/lib/python3.7/dist-packages/ipykernel_launcher.py:5: SettingWithCopyWarning: \n",
            "A value is trying to be set on a copy of a slice from a DataFrame.\n",
            "Try using .loc[row_indexer,col_indexer] = value instead\n",
            "\n",
            "See the caveats in the documentation: https://pandas.pydata.org/pandas-docs/stable/user_guide/indexing.html#returning-a-view-versus-a-copy\n",
            "  \"\"\"\n"
          ]
        },
        {
          "output_type": "execute_result",
          "data": {
            "text/html": [
              "<div>\n",
              "<style scoped>\n",
              "    .dataframe tbody tr th:only-of-type {\n",
              "        vertical-align: middle;\n",
              "    }\n",
              "\n",
              "    .dataframe tbody tr th {\n",
              "        vertical-align: top;\n",
              "    }\n",
              "\n",
              "    .dataframe thead th {\n",
              "        text-align: right;\n",
              "    }\n",
              "</style>\n",
              "<table border=\"1\" class=\"dataframe\">\n",
              "  <thead>\n",
              "    <tr style=\"text-align: right;\">\n",
              "      <th></th>\n",
              "      <th>YEAR</th>\n",
              "      <th>MONTH</th>\n",
              "      <th>DATE</th>\n",
              "      <th>Mw</th>\n",
              "      <th>LAT (N)</th>\n",
              "      <th>LONG (E)</th>\n",
              "      <th>DEPTH (km)</th>\n",
              "    </tr>\n",
              "  </thead>\n",
              "  <tbody>\n",
              "    <tr>\n",
              "      <th>1</th>\n",
              "      <td>1705.0</td>\n",
              "      <td>2.0</td>\n",
              "      <td>4.0</td>\n",
              "      <td>7.0</td>\n",
              "      <td>72.15</td>\n",
              "      <td>21.75</td>\n",
              "      <td>0.0</td>\n",
              "    </tr>\n",
              "    <tr>\n",
              "      <th>3</th>\n",
              "      <td>1720.0</td>\n",
              "      <td>7.0</td>\n",
              "      <td>15.0</td>\n",
              "      <td>6.5</td>\n",
              "      <td>77.10</td>\n",
              "      <td>28.37</td>\n",
              "      <td>0.0</td>\n",
              "    </tr>\n",
              "    <tr>\n",
              "      <th>4</th>\n",
              "      <td>1735.0</td>\n",
              "      <td>NaN</td>\n",
              "      <td>NaN</td>\n",
              "      <td>7.5</td>\n",
              "      <td>75.00</td>\n",
              "      <td>34.00</td>\n",
              "      <td>0.0</td>\n",
              "    </tr>\n",
              "    <tr>\n",
              "      <th>5</th>\n",
              "      <td>1736.0</td>\n",
              "      <td>3.0</td>\n",
              "      <td>24.0</td>\n",
              "      <td>5.8</td>\n",
              "      <td>74.50</td>\n",
              "      <td>34.60</td>\n",
              "      <td>0.0</td>\n",
              "    </tr>\n",
              "    <tr>\n",
              "      <th>7</th>\n",
              "      <td>1737.0</td>\n",
              "      <td>10.0</td>\n",
              "      <td>11.0</td>\n",
              "      <td>7.2</td>\n",
              "      <td>88.40</td>\n",
              "      <td>22.60</td>\n",
              "      <td>0.0</td>\n",
              "    </tr>\n",
              "  </tbody>\n",
              "</table>\n",
              "</div>"
            ],
            "text/plain": [
              "     YEAR  MONTH  DATE   Mw  LAT (N)  LONG (E)  DEPTH (km)\n",
              "1  1705.0    2.0   4.0  7.0    72.15     21.75         0.0\n",
              "3  1720.0    7.0  15.0  6.5    77.10     28.37         0.0\n",
              "4  1735.0    NaN   NaN  7.5    75.00     34.00         0.0\n",
              "5  1736.0    3.0  24.0  5.8    74.50     34.60         0.0\n",
              "7  1737.0   10.0  11.0  7.2    88.40     22.60         0.0"
            ]
          },
          "metadata": {},
          "execution_count": 644
        }
      ]
    },
    {
      "cell_type": "code",
      "metadata": {
        "colab": {
          "base_uri": "https://localhost:8080/",
          "height": 206
        },
        "id": "k5hmMkT7cKph",
        "outputId": "cd1cb619-d1e3-4683-e9d6-bbb543538ffd"
      },
      "source": [
        "new_data = new_data.fillna(new_data.mean())\n",
        "new_data.head()"
      ],
      "execution_count": 645,
      "outputs": [
        {
          "output_type": "execute_result",
          "data": {
            "text/html": [
              "<div>\n",
              "<style scoped>\n",
              "    .dataframe tbody tr th:only-of-type {\n",
              "        vertical-align: middle;\n",
              "    }\n",
              "\n",
              "    .dataframe tbody tr th {\n",
              "        vertical-align: top;\n",
              "    }\n",
              "\n",
              "    .dataframe thead th {\n",
              "        text-align: right;\n",
              "    }\n",
              "</style>\n",
              "<table border=\"1\" class=\"dataframe\">\n",
              "  <thead>\n",
              "    <tr style=\"text-align: right;\">\n",
              "      <th></th>\n",
              "      <th>YEAR</th>\n",
              "      <th>MONTH</th>\n",
              "      <th>DATE</th>\n",
              "      <th>Mw</th>\n",
              "      <th>LAT (N)</th>\n",
              "      <th>LONG (E)</th>\n",
              "      <th>DEPTH (km)</th>\n",
              "    </tr>\n",
              "  </thead>\n",
              "  <tbody>\n",
              "    <tr>\n",
              "      <th>1</th>\n",
              "      <td>1705.0</td>\n",
              "      <td>2.000000</td>\n",
              "      <td>4.000000</td>\n",
              "      <td>7.0</td>\n",
              "      <td>72.15</td>\n",
              "      <td>21.75</td>\n",
              "      <td>0.0</td>\n",
              "    </tr>\n",
              "    <tr>\n",
              "      <th>3</th>\n",
              "      <td>1720.0</td>\n",
              "      <td>7.000000</td>\n",
              "      <td>15.000000</td>\n",
              "      <td>6.5</td>\n",
              "      <td>77.10</td>\n",
              "      <td>28.37</td>\n",
              "      <td>0.0</td>\n",
              "    </tr>\n",
              "    <tr>\n",
              "      <th>4</th>\n",
              "      <td>1735.0</td>\n",
              "      <td>6.334397</td>\n",
              "      <td>16.426181</td>\n",
              "      <td>7.5</td>\n",
              "      <td>75.00</td>\n",
              "      <td>34.00</td>\n",
              "      <td>0.0</td>\n",
              "    </tr>\n",
              "    <tr>\n",
              "      <th>5</th>\n",
              "      <td>1736.0</td>\n",
              "      <td>3.000000</td>\n",
              "      <td>24.000000</td>\n",
              "      <td>5.8</td>\n",
              "      <td>74.50</td>\n",
              "      <td>34.60</td>\n",
              "      <td>0.0</td>\n",
              "    </tr>\n",
              "    <tr>\n",
              "      <th>7</th>\n",
              "      <td>1737.0</td>\n",
              "      <td>10.000000</td>\n",
              "      <td>11.000000</td>\n",
              "      <td>7.2</td>\n",
              "      <td>88.40</td>\n",
              "      <td>22.60</td>\n",
              "      <td>0.0</td>\n",
              "    </tr>\n",
              "  </tbody>\n",
              "</table>\n",
              "</div>"
            ],
            "text/plain": [
              "     YEAR      MONTH       DATE   Mw  LAT (N)  LONG (E)  DEPTH (km)\n",
              "1  1705.0   2.000000   4.000000  7.0    72.15     21.75         0.0\n",
              "3  1720.0   7.000000  15.000000  6.5    77.10     28.37         0.0\n",
              "4  1735.0   6.334397  16.426181  7.5    75.00     34.00         0.0\n",
              "5  1736.0   3.000000  24.000000  5.8    74.50     34.60         0.0\n",
              "7  1737.0  10.000000  11.000000  7.2    88.40     22.60         0.0"
            ]
          },
          "metadata": {},
          "execution_count": 645
        }
      ]
    },
    {
      "cell_type": "markdown",
      "metadata": {
        "id": "_GTG_vabgoRP"
      },
      "source": [
        "### Setting Parameters"
      ]
    },
    {
      "cell_type": "code",
      "metadata": {
        "id": "ywHbwY-teTZI"
      },
      "source": [
        "from sklearn.model_selection import train_test_split\n",
        "\n",
        "X = new_data\n",
        "X = X.drop('Mw',axis=1)\n",
        "X = X.drop('DATE',axis=1)\n",
        "\n",
        "# threshold for Mw earthquake\n",
        "phi = 4.5 \n",
        "y = [0 if i<phi else 1 for i in new_data['Mw']]\n",
        "\n",
        "# test:train split\n",
        "X_train, X_test, y_train, y_test = train_test_split(X, y, test_size=0.25, random_state=1)\n",
        "\n",
        "# Scaling data\n",
        "from sklearn.preprocessing import StandardScaler\n",
        "sc = StandardScaler()\n",
        "X_train = sc.fit_transform(X_train)\n",
        "X_test = sc.transform(X_test)\n",
        "\n",
        "# depth parameter for decision tree\n",
        "dpt = 7"
      ],
      "execution_count": 646,
      "outputs": []
    },
    {
      "cell_type": "markdown",
      "metadata": {
        "id": "mDMnS5B7gsAO"
      },
      "source": [
        "## Task 1\n",
        "Plot ROC for both these classifiers for K as parameter in KNN, pre-prune depth as a parameter in Decision Tree and number of estimators as parameter in ensemble learning"
      ]
    },
    {
      "cell_type": "markdown",
      "metadata": {
        "id": "Y4j7BcB2eI6n"
      },
      "source": [
        "### Decision Trees"
      ]
    },
    {
      "cell_type": "code",
      "metadata": {
        "colab": {
          "base_uri": "https://localhost:8080/",
          "height": 656
        },
        "id": "IouNUhpv6YLW",
        "outputId": "88e45a80-af9a-4d30-a436-f1fed3c137c3"
      },
      "source": [
        "# ROC Curve \n",
        "import matplotlib.pyplot as plt\n",
        "\n",
        "dec_max,dec_ind,dec_predict = 0,0,0\n",
        "\n",
        "plt.figure(figsize=(10,10))  \n",
        "for dpt in range(1,11):\n",
        "  dtc = DecisionTreeClassifier(criterion=\"entropy\",max_depth=dpt)\n",
        "  dtc.fit(X_train,y_train)\n",
        "  dec_probas = dtc.predict_proba(X_test)\n",
        "\n",
        "  if dec_max < roc_auc_score(y_test, dec_probas[:,1]):\n",
        "    dec_ind = dpt\n",
        "    dec_max = roc_auc_score(y_test, dec_probas[:,1])\n",
        "    dec_predict = dtc.predict(X_test) # to be used ahead to calculate accuracy,recall,etc\n",
        "\n",
        "  false_positive_rate1, true_positive_rate1, threshold1 = roc_curve(y_test, dec_probas[:,1])\n",
        "  plt.plot(false_positive_rate1, true_positive_rate1, label=str(dpt))\n",
        "  plt.legend()\n",
        "\n",
        "plt.title('ROC - DecisionTree')\n",
        "plt.plot([0, 1], ls=\"--\")\n",
        "plt.plot([0, 0], [1, 0] , c=\".7\"), plt.plot([1, 1] , c=\".7\")\n",
        "plt.ylabel('True Positive Rate')\n",
        "plt.xlabel('False Positive Rate')\n",
        "plt.show()\n",
        "print(\"Best Depth with max area: \", dec_ind)\n",
        "print(\"Roc_score\",dec_max)"
      ],
      "execution_count": 647,
      "outputs": [
        {
          "output_type": "display_data",
          "data": {
            "image/png": "[encoded data removed]",
            "text/plain": [
              "<Figure size 720x720 with 1 Axes>"
            ]
          },
          "metadata": {
            "needs_background": "light"
          }
        },
        {
          "output_type": "stream",
          "name": "stdout",
          "text": [
            "Best Depth with max area:  9\n",
            "Roc_score 0.7622229084579758\n"
          ]
        }
      ]
    },
    {
      "cell_type": "code",
      "metadata": {
        "id": "2E2vXHuCoRtW"
      },
      "source": [
        "# visualizing decision tree on tree.dot file\n",
        "from sklearn.tree import export_graphviz\n",
        "\n",
        "y_pd = pd.DataFrame({'col':y})\n",
        "y_pd['col'] = y_pd['col'].apply(str)\n",
        "\n",
        "# feature_cols = ['YEAR','MONTH','DATE','LAT (N)','LONG (E)','DEPTH (km)']\n",
        "feature_cols = X.columns\n",
        "\n",
        "export_graphviz( dtc, out_file=\"tree.dot\", feature_names=feature_cols, \n",
        "                class_names=y_pd['col'].unique(), rounded=True, filled=True )"
      ],
      "execution_count": 648,
      "outputs": []
    },
    {
      "cell_type": "markdown",
      "metadata": {
        "id": "WGEyc_wpTawu"
      },
      "source": [
        "### KNN"
      ]
    },
    {
      "cell_type": "code",
      "metadata": {
        "colab": {
          "base_uri": "https://localhost:8080/",
          "height": 638
        },
        "id": "DC7hexasTf9Q",
        "outputId": "45e74dda-4af8-4b97-f67a-ddee43921b6c"
      },
      "source": [
        "from sklearn.neighbors import KNeighborsClassifier\n",
        "\n",
        "knn_max,knn_ind,knn_predict = 0,0,0\n",
        "plt.figure(figsize=(10,10))  \n",
        "\n",
        "for k in range(3,100,2):\n",
        "  knn = KNeighborsClassifier(n_neighbors=k,metric=\"minkowski\",p=2)\n",
        "  knn.fit(X_train,y_train)\n",
        "\n",
        "  knn_probas = knn.predict_proba(X_test)\n",
        "  if knn_max < roc_auc_score(y_test, knn_probas[:,1]):\n",
        "    knn_ind = k\n",
        "    knn_max = roc_auc_score(y_test, knn_probas[:,1])\n",
        "    knn_predict = knn.predict(X_test)\n",
        "\n",
        "  fpr2, tpr2, threshold2 = roc_curve(y_test, knn_probas[:,1])\n",
        "  plt.plot(fpr2, tpr2)\n",
        "\n",
        "plt.title('ROC - KNN')\n",
        "plt.plot([0, 1], ls=\"--\")\n",
        "plt.plot([0, 0], [1, 0] , c=\".7\"), plt.plot([1, 1] , c=\".7\")\n",
        "plt.ylabel('True Positive Rate')\n",
        "plt.xlabel('False Positive Rate')\n",
        "plt.show()\n",
        "print(knn_ind,knn_max)"
      ],
      "execution_count": 649,
      "outputs": [
        {
          "output_type": "display_data",
          "data": {
            "image/png": "[encoded data removed]",
            "text/plain": [
              "<Figure size 720x720 with 1 Axes>"
            ]
          },
          "metadata": {
            "needs_background": "light"
          }
        },
        {
          "output_type": "stream",
          "name": "stdout",
          "text": [
            "43 0.7611081197206732\n"
          ]
        }
      ]
    },
    {
      "cell_type": "markdown",
      "metadata": {
        "id": "CKEF1rTgg507"
      },
      "source": [
        "### Ensemble learning"
      ]
    },
    {
      "cell_type": "code",
      "metadata": {
        "colab": {
          "base_uri": "https://localhost:8080/",
          "height": 638
        },
        "id": "iotMDswRfc3k",
        "outputId": "c8907ec5-4a8d-4435-a06b-000b43d7fb60"
      },
      "source": [
        "from sklearn.ensemble import BaggingClassifier\n",
        "\n",
        "bag_max,bag_ind,bag_predict = 0,0,0\n",
        "plt.figure(figsize=(10,10))\n",
        "\n",
        "for i in range(1,5):\n",
        "  num = i*500\n",
        "  bag_clf = BaggingClassifier(DecisionTreeClassifier(criterion=\"entropy\",max_depth=7), n_estimators=num, max_samples=4000, bootstrap=True)\n",
        "  bag_clf.fit(X_train,y_train)\n",
        "\n",
        "  bag_probas = bag_clf.predict_proba(X_test)\n",
        "\n",
        "  if bag_max < roc_auc_score(y_test, bag_probas[:,1]):\n",
        "    bag_ind = i\n",
        "    bag_max = roc_auc_score(y_test, bag_probas[:,1])\n",
        "    bag_predict = bag_clf.predict(X_test)\n",
        "\n",
        "  fpr3, tpr3, threshold3 = roc_curve(y_test, bag_probas[:,1])\n",
        "  plt.plot(fpr3, tpr3, label=str(i))\n",
        "  plt.legend()\n",
        "\n",
        "plt.title('ROC - Bagging')\n",
        "plt.plot([0, 1], ls=\"--\")\n",
        "plt.plot([0, 0], [1, 0] , c=\".7\"), plt.plot([1, 1] , c=\".7\")\n",
        "plt.ylabel('True Positive Rate')\n",
        "plt.xlabel('False Positive Rate')\n",
        "plt.show()\n",
        "print(bag_ind,bag_max)"
      ],
      "execution_count": 650,
      "outputs": [
        {
          "output_type": "display_data",
          "data": {
            "image/png": "[encoded data removed]",
            "text/plain": [
              "<Figure size 720x720 with 1 Axes>"
            ]
          },
          "metadata": {
            "needs_background": "light"
          }
        },
        {
          "output_type": "stream",
          "name": "stdout",
          "text": [
            "3 0.7737081300764435\n"
          ]
        }
      ]
    },
    {
      "cell_type": "markdown",
      "metadata": {
        "id": "CNYybrx5mOtM"
      },
      "source": [
        "The no. of estimators are not affecting to that extend and the code was taking a lot of time so it has been tested on only a few numbers."
      ]
    },
    {
      "cell_type": "markdown",
      "metadata": {
        "id": "np2c98DSmtcQ"
      },
      "source": [
        "## Task 2\n",
        "Which is the better classifier for this data amongst the three? Give Reasoning?"
      ]
    },
    {
      "cell_type": "code",
      "metadata": {
        "id": "1yC9h2vTq_S3"
      },
      "source": [
        "from sklearn.metrics import roc_curve,roc_auc_score,f1_score,accuracy_score,precision_score,recall_score"
      ],
      "execution_count": 651,
      "outputs": []
    },
    {
      "cell_type": "code",
      "metadata": {
        "colab": {
          "base_uri": "https://localhost:8080/"
        },
        "id": "S7bViOo6mgTE",
        "outputId": "5a828cc0-a0cf-475e-c2e7-2d8519034e2f"
      },
      "source": [
        "# Scores for DecisionTree\n",
        "\n",
        "print('roc_auc_score: ', dec_max)\n",
        "print('recall score: ', recall_score(y_test, dec_predict))\n",
        "print('precision score: ', precision_score(y_test, dec_predict))\n",
        "print('f1 score: ', f1_score(y_test, dec_predict))"
      ],
      "execution_count": 657,
      "outputs": [
        {
          "output_type": "stream",
          "name": "stdout",
          "text": [
            "roc_auc_score:  0.7622229084579758\n",
            "recall score:  0.6741472172351886\n",
            "precision score:  0.7130875138471278\n",
            "f1 score:  0.6930708298085058\n"
          ]
        }
      ]
    },
    {
      "cell_type": "code",
      "metadata": {
        "colab": {
          "base_uri": "https://localhost:8080/"
        },
        "id": "aaMe99ZcsDYl",
        "outputId": "d9a25a90-7cf3-4744-a856-5f47c53bc544"
      },
      "source": [
        "# Scores for KNN\n",
        "\n",
        "print('roc_auc_score: ', knn_max)\n",
        "print('recall score: ', recall_score(y_test, knn_predict))\n",
        "print('precision score: ', precision_score(y_test, knn_predict))\n",
        "print('f1 score: ', f1_score(y_test, knn_predict))"
      ],
      "execution_count": 658,
      "outputs": [
        {
          "output_type": "stream",
          "name": "stdout",
          "text": [
            "roc_auc_score:  0.7611081197206732\n",
            "recall score:  0.6926989826451226\n",
            "precision score:  0.7069781646052833\n",
            "f1 score:  0.699765737172221\n"
          ]
        }
      ]
    },
    {
      "cell_type": "code",
      "metadata": {
        "colab": {
          "base_uri": "https://localhost:8080/"
        },
        "id": "XshSvDNyscT0",
        "outputId": "c291f057-10ee-457a-d403-a3a4393e0fb3"
      },
      "source": [
        "# Scores for Ensemble\n",
        "\n",
        "print('roc_auc_score: ', bag_max)\n",
        "print('recall score: ', recall_score(y_test, bag_predict))\n",
        "print('precision score: ', precision_score(y_test, bag_predict))\n",
        "print('f1 score: ', f1_score(y_test, bag_predict))"
      ],
      "execution_count": 659,
      "outputs": [
        {
          "output_type": "stream",
          "name": "stdout",
          "text": [
            "roc_auc_score:  0.7737081300764435\n",
            "recall score:  0.6970377019748654\n",
            "precision score:  0.718094944512947\n",
            "f1 score:  0.707409656847859\n"
          ]
        }
      ]
    },
    {
      "cell_type": "markdown",
      "metadata": {
        "id": "K6uKNigltCr5"
      },
      "source": [
        "## Task 3\n",
        "What could be the best possible values of the parameters for respective\n",
        "classifier based on the ROC curves? Give Reasoning."
      ]
    },
    {
      "cell_type": "markdown",
      "metadata": {
        "id": "6gNxym7vt0Hd"
      },
      "source": [
        "After looping in each of them we stored the best value according to roc areas covered by them in {dec_ind,dec_max}, {knn_ind,knn_max}, {bag_ind,bag_max}"
      ]
    },
    {
      "cell_type": "code",
      "metadata": {
        "colab": {
          "base_uri": "https://localhost:8080/"
        },
        "id": "nMrG8y7XtE4h",
        "outputId": "ab6abb42-794f-4133-eb9e-bbe92efddffa"
      },
      "source": [
        "print(\"Decision Tree best depth at \", dec_ind, \"with area\", dec_max)\n",
        "print(\"KNN best k = \", knn_ind, \"with area\", knn_max)\n",
        "print(\"Ensemble(Bagging) best no of estimators at \", bag_ind, \"with area\", bag_max)"
      ],
      "execution_count": 655,
      "outputs": [
        {
          "output_type": "stream",
          "name": "stdout",
          "text": [
            "Decision Tree best depth at  9 with area 0.7622229084579758\n",
            "KNN best k =  43 with area 0.7611081197206732\n",
            "Ensemble(Bagging) best no of estimators at  3 with area 0.7737081300764435\n"
          ]
        }
      ]
    },
    {
      "cell_type": "markdown",
      "metadata": {
        "id": "Lhb8ZgciKIhY"
      },
      "source": [
        "## Task 4\n",
        "If you have to choose only a subset of two features to predict earthquake,\n",
        "which ones would it be? Give reasoning."
      ]
    },
    {
      "cell_type": "code",
      "metadata": {
        "colab": {
          "base_uri": "https://localhost:8080/"
        },
        "id": "Lc0QDkD7KK2e",
        "outputId": "3906947b-573c-490f-ecd8-be33f80b4d07"
      },
      "source": [
        "for i in X.columns:\n",
        "  # print(i)\n",
        "  for j in X.columns:\n",
        "    if i !=j:\n",
        "      df=pd.DataFrame()\n",
        "      df['first']=X[i]\n",
        "      df['second']=X[j]\n",
        "      x_train,x_test,y_train,y_test=train_test_split(df,y,test_size=0.3,random_state=72)\n",
        "      sc = StandardScaler()\n",
        "      x_train = sc.fit_transform(x_train)\n",
        "      x_test = sc.transform(x_test)\n",
        "      \n",
        "      bagging = BaggingClassifier(DecisionTreeClassifier(max_depth=10),n_estimators=1500, max_samples=1000)\n",
        "      bagging.fit(x_train,y_train)\n",
        "      bag_prob_predict=bagging.predict_proba(x_test)\n",
        "      bag_label_predict=bagging.predict(x_test)\n",
        "      print(i,j)\n",
        "      print('roc_auc_score for Logistic Regression: ', roc_auc_score(y_test, bag_prob_predict[:,1]))\n",
        "      print('f1 score for DecisionTree: ', f1_score(y_test, bag_label_predict))\n",
        "      print('precision score for DecisionTree: ', precision_score(y_test, bag_label_predict))\n",
        "      print('recall score for DecisionTree: ', recall_score(y_test, bag_label_predict))\n",
        "      print(\"Accuracy:\",metrics.accuracy_score(y_test, bag_label_predict))"
      ],
      "execution_count": 660,
      "outputs": [
        {
          "output_type": "stream",
          "name": "stdout",
          "text": [
            "YEAR MONTH\n",
            "roc_auc_score for Logistic Regression:  0.7005825346852319\n",
            "f1 score for DecisionTree:  0.637319405819711\n",
            "precision score for DecisionTree:  0.691899852724595\n",
            "recall score for DecisionTree:  0.5907204828366655\n",
            "Accuracy: 0.6489857546116983\n",
            "YEAR LAT (N)\n",
            "roc_auc_score for Logistic Regression:  0.7503815772747309\n",
            "f1 score for DecisionTree:  0.6977506143280195\n",
            "precision score for DecisionTree:  0.6992927506946198\n",
            "recall score for DecisionTree:  0.696215264679995\n",
            "Accuracy: 0.6850915774962253\n",
            "YEAR LONG (E)\n",
            "roc_auc_score for Logistic Regression:  0.747714517501862\n",
            "f1 score for DecisionTree:  0.6977607324013361\n",
            "precision score for DecisionTree:  0.6867161816632168\n",
            "recall score for DecisionTree:  0.7091663523198793\n",
            "Accuracy: 0.6792489988840018\n",
            "YEAR DEPTH (km)\n",
            "roc_auc_score for Logistic Regression:  0.7251339946360693\n",
            "f1 score for DecisionTree:  0.6738554672720393\n",
            "precision score for DecisionTree:  0.6759013282732448\n",
            "recall score for DecisionTree:  0.6718219539796303\n",
            "Accuracy: 0.6604739709840478\n",
            "MONTH YEAR\n",
            "roc_auc_score for Logistic Regression:  0.7010073173714253\n",
            "f1 score for DecisionTree:  0.6350910573525415\n",
            "precision score for DecisionTree:  0.6909655478338016\n",
            "recall score for DecisionTree:  0.587577014962907\n",
            "Accuracy: 0.6474758747456181\n",
            "MONTH LAT (N)\n",
            "roc_auc_score for Logistic Regression:  0.6505674650384193\n",
            "f1 score for DecisionTree:  0.6611999769013108\n",
            "precision score for DecisionTree:  0.6113840239214011\n",
            "recall score for DecisionTree:  0.7198541430906576\n",
            "Accuracy: 0.6148493402481455\n",
            "MONTH LONG (E)\n",
            "roc_auc_score for Logistic Regression:  0.6519235346258168\n",
            "f1 score for DecisionTree:  0.6523109868538457\n",
            "precision score for DecisionTree:  0.618988484985324\n",
            "recall score for DecisionTree:  0.689425374072677\n",
            "Accuracy: 0.6162935731635265\n",
            "MONTH DEPTH (km)\n",
            "roc_auc_score for Logistic Regression:  0.6136631435645958\n",
            "f1 score for DecisionTree:  0.6311494520867335\n",
            "precision score for DecisionTree:  0.5882864283385852\n",
            "recall score for DecisionTree:  0.680749402741104\n",
            "Accuracy: 0.5845860959758419\n",
            "LAT (N) YEAR\n",
            "roc_auc_score for Logistic Regression:  0.7505847800194273\n",
            "f1 score for DecisionTree:  0.6962160800856261\n",
            "precision score for DecisionTree:  0.6972257250945776\n",
            "recall score for DecisionTree:  0.6952093549603923\n",
            "Accuracy: 0.6832534628766493\n",
            "LAT (N) MONTH\n",
            "roc_auc_score for Logistic Regression:  0.6504194975149332\n",
            "f1 score for DecisionTree:  0.6616523952788707\n",
            "precision score for DecisionTree:  0.6127960561568964\n",
            "recall score for DecisionTree:  0.7189739720860053\n",
            "Accuracy: 0.6160966323114291\n",
            "LAT (N) LONG (E)\n",
            "roc_auc_score for Logistic Regression:  0.6617608791623315\n",
            "f1 score for DecisionTree:  0.6487955080601341\n",
            "precision score for DecisionTree:  0.6240418118466899\n",
            "recall score for DecisionTree:  0.6755941154281403\n",
            "Accuracy: 0.6181316877831025\n",
            "LAT (N) DEPTH (km)\n",
            "roc_auc_score for Logistic Regression:  0.671103308862645\n",
            "f1 score for DecisionTree:  0.6565007042684794\n",
            "precision score for DecisionTree:  0.6399235912129895\n",
            "recall score for DecisionTree:  0.673959512133786\n",
            "Accuracy: 0.6317862535285236\n",
            "LONG (E) YEAR\n",
            "roc_auc_score for Logistic Regression:  0.747653591222056\n",
            "f1 score for DecisionTree:  0.6967654153008843\n",
            "precision score for DecisionTree:  0.6856134371957157\n",
            "recall score for DecisionTree:  0.7082861813152269\n",
            "Accuracy: 0.6781330007221165\n",
            "LONG (E) MONTH\n",
            "roc_auc_score for Logistic Regression:  0.6514328600168849\n",
            "f1 score for DecisionTree:  0.6539765629647255\n",
            "precision score for DecisionTree:  0.6205689771957552\n",
            "recall score for DecisionTree:  0.6911857160819816\n",
            "Accuracy: 0.6181316877831025\n",
            "LONG (E) LAT (N)\n",
            "roc_auc_score for Logistic Regression:  0.6612806367215082\n",
            "f1 score for DecisionTree:  0.649831243972999\n",
            "precision score for DecisionTree:  0.6240305590924875\n",
            "recall score for DecisionTree:  0.6778574122972463\n",
            "Accuracy: 0.6185912164379964\n",
            "LONG (E) DEPTH (km)\n",
            "roc_auc_score for Logistic Regression:  0.6690404512499948\n",
            "f1 score for DecisionTree:  0.6553535841536324\n",
            "precision score for DecisionTree:  0.6304903555658843\n",
            "recall score for DecisionTree:  0.682258267320508\n",
            "Accuracy: 0.6253528523600079\n",
            "DEPTH (km) YEAR\n",
            "roc_auc_score for Logistic Regression:  0.7249104284373995\n",
            "f1 score for DecisionTree:  0.6797944145148307\n",
            "precision score for DecisionTree:  0.669716935090288\n",
            "recall score for DecisionTree:  0.690179806362379\n",
            "Accuracy: 0.6605396179347469\n",
            "DEPTH (km) MONTH\n",
            "roc_auc_score for Logistic Regression:  0.6142311613006635\n",
            "f1 score for DecisionTree:  0.6288460411416514\n",
            "precision score for DecisionTree:  0.5889132821075741\n",
            "recall score for DecisionTree:  0.6745882057085376\n",
            "Accuracy: 0.5842578612223462\n",
            "DEPTH (km) LAT (N)\n",
            "roc_auc_score for Logistic Regression:  0.6708396289049816\n",
            "f1 score for DecisionTree:  0.6549563935634443\n",
            "precision score for DecisionTree:  0.6401728899027495\n",
            "recall score for DecisionTree:  0.6704388281151766\n",
            "Accuracy: 0.6311954309722313\n",
            "DEPTH (km) LONG (E)\n",
            "roc_auc_score for Logistic Regression:  0.6686678466761454\n",
            "f1 score for DecisionTree:  0.6588305847076462\n",
            "precision score for DecisionTree:  0.6297867461591378\n",
            "recall score for DecisionTree:  0.6906827612221803\n",
            "Accuracy: 0.6265344974725924\n"
          ]
        }
      ]
    }
  ]
}